{
 "cells": [
  {
   "cell_type": "markdown",
   "metadata": {},
   "source": [
    "# Capítulo 2 - Variáveis, expressões e instruções\n",
    "\n",
    "- **Variável** - nome que se refere a um valor.\n",
    "- **Instrução de atribuição** - cria uma nova variável e dá um valor a ela."
   ]
  },
  {
   "cell_type": "code",
   "execution_count": 2,
   "metadata": {},
   "outputs": [
    {
     "name": "stdout",
     "output_type": "stream",
     "text": [
      "throatwarbler\n",
      "SpawSpawSpawSpaw\n"
     ]
    }
   ],
   "source": [
    "# concatenação de strings\n",
    "first = 'throat'\n",
    "second = 'warbler'\n",
    "\n",
    "print(first + second)\n",
    "\n",
    "print('Spaw' * 4)"
   ]
  },
  {
   "cell_type": "markdown",
   "metadata": {},
   "source": [
    "## Glossário\n",
    "\n",
    "- **variável**:\n",
    "    - Um nome que se refere a um valor.\n",
    "\n",
    "- **atribuição**:\n",
    "    - Uma instrução que atribui um valor a uma variável.\n",
    "\n",
    "- **diagrama de estado**:\n",
    "    - Uma representação gráfica de um grupo de variáveis e os valores a que se referem.\n",
    "\n",
    "- **palavra-chave**:\n",
    "    - Uma palavra reservada, usada para analisar um programa; não é possível usar palavras-chave como if, def e while como nomes de variáveis.\n",
    "\n",
    "- **operando**:\n",
    "    - Um dos valores que um operador produz.\n",
    "\n",
    "- **expressão**:\n",
    "    - Uma combinação de variáveis, operadores e valores que representa um resultado único.\n",
    "\n",
    "- **avaliar**:\n",
    "    - Simplificar uma expressão executando as operações para produzir um valor único.\n",
    "\n",
    "- **instrução**:\n",
    "    - Uma seção do código que representa um comando ou ação. Por enquanto, as instruções que vimos são instruções de atribuições e de exibição.\n",
    "\n",
    "- **executar**:\n",
    "    - Executar uma instrução para fazer o que ela diz.\n",
    "\n",
    "- **modo interativo**:\n",
    "    - Um modo de usar o interpretador do Python, digitando o código no prompt.\n",
    "\n",
    "- **modo script**:\n",
    "    - Um modo de usar o interpretador do Python para ler código em um script e executá-lo.\n",
    "\n",
    "- **script**:\n",
    "    - Um programa armazenado em um arquivo.\n",
    "\n",
    "- **ordem das operações**:\n",
    "    - As regras que governam a ordem na qual as expressões que envolvem vários operadores e operandos são avaliadas.\n",
    "\n",
    "- **concatenar**:\n",
    "    - Juntar dois operandos pelas extremidades.\n",
    "\n",
    "- **comentários**:\n",
    "    - Informações em um programa destinadas a outros programadores (ou qualquer pessoa que leia o texto fonte) que não têm efeito sobre a execução do programa.\n",
    "\n",
    "- **erro de sintaxe**:\n",
    "    - Um erro em um programa que torna sua análise impossível (e por isso impossível de interpretar).\n",
    "\n",
    "- **exceção**:\n",
    "    - Um erro que se descobre quando o programa é executado.\n",
    "\n",
    "- **semântica**:\n",
    "    - O significado de um programa.\n",
    "\n",
    "- **erro semântico**:\n",
    "    - Um erro que faz com que um programa faça algo diferente do que o programador pretendia.\n",
    "\n",
    "## Exercícios\n",
    "\n",
    "2.2.1) Qual o volume de uma espefa de raio 5?"
   ]
  },
  {
   "cell_type": "code",
   "execution_count": 1,
   "metadata": {},
   "outputs": [
    {
     "name": "stdout",
     "output_type": "stream",
     "text": [
      "523.5983333333332\n"
     ]
    }
   ],
   "source": [
    "raio = 5\n",
    "pi = 3.14159\n",
    "volume = (4/3) * pi * (raio ** 3)\n",
    "\n",
    "print(volume)"
   ]
  },
  {
   "cell_type": "markdown",
   "metadata": {},
   "source": [
    "2.2.2) Suponha que o preço de capa de um livro seja R$ 24,95, mas as livrarias recebem um desconto de 40%. O transporte custa R$ 3,00 para o primeiro exemplar e 75 centavos para cada exemplar adicional. Qual é o custo total de atacado para 60 cópias?"
   ]
  },
  {
   "cell_type": "code",
   "execution_count": 2,
   "metadata": {},
   "outputs": [
    {
     "name": "stdout",
     "output_type": "stream",
     "text": [
      "945.4499999999999\n"
     ]
    }
   ],
   "source": [
    "precoLivro = 24.95\n",
    "precoLivraria = precoLivro * 0.6\n",
    "totalLivros = 60\n",
    "precoTranporte1 = 3.0\n",
    "precoTransporteOutros = 0.75\n",
    "\n",
    "precoTotal = totalLivros * precoLivraria + precoTranporte1 + ((totalLivros - 1) * precoTransporteOutros)\n",
    "\n",
    "print(precoTotal)"
   ]
  },
  {
   "cell_type": "markdown",
   "metadata": {},
   "source": [
    "2.2.3) Se eu sair da minha casa às 6:52 e correr 1 quilômetro a um certo passo (8min15s por quilômetro), então 3 quilômetros a um passo mais rápido (7min12s por quilômetro) e 1 quilômetro no mesmo passo usado em primeiro lugar, que horas chego em casa para o café da manhã?"
   ]
  },
  {
   "cell_type": "code",
   "execution_count": 8,
   "metadata": {},
   "outputs": [
    {
     "name": "stdout",
     "output_type": "stream",
     "text": [
      "38.1\n",
      "7h\n",
      "30.1\n",
      "min\n"
     ]
    }
   ],
   "source": [
    "tempoSegundo = 2 * (8 * 60 + 15) + 3 * (7 * 60 + 12)\n",
    "tempoMinuto = tempoSegundo / 60\n",
    "\n",
    "print(tempoMinuto)\n",
    "\n",
    "minutos = tempoMinuto - (60 - 52)\n",
    "\n",
    "if minutos > 0:\n",
    "    print('7h') \n",
    "    print(minutos) \n",
    "    print('min')\n",
    "else:\n",
    "    print('6h')\n",
    "    print(minutos) \n",
    "    print('min')\n",
    "    "
   ]
  }
 ],
 "metadata": {
  "kernelspec": {
   "display_name": "Python 3",
   "language": "python",
   "name": "python3"
  },
  "language_info": {
   "codemirror_mode": {
    "name": "ipython",
    "version": 3
   },
   "file_extension": ".py",
   "mimetype": "text/x-python",
   "name": "python",
   "nbconvert_exporter": "python",
   "pygments_lexer": "ipython3",
   "version": "3.12.2"
  }
 },
 "nbformat": 4,
 "nbformat_minor": 2
}
