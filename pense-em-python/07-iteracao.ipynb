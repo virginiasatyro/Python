{
 "cells": [
  {
   "cell_type": "markdown",
   "metadata": {},
   "source": [
    "# Capítulo 7 - Iteração"
   ]
  },
  {
   "cell_type": "code",
   "execution_count": 2,
   "metadata": {},
   "outputs": [
    {
     "name": "stdout",
     "output_type": "stream",
     "text": [
      "10\n",
      "9\n",
      "8\n",
      "7\n",
      "6\n",
      "5\n",
      "4\n",
      "3\n",
      "2\n",
      "1\n",
      "Blastoff!\n"
     ]
    }
   ],
   "source": [
    "# while\n",
    "def countdown(n):\n",
    "    while n > 0:\n",
    "        print(n)\n",
    "        n = n - 1\n",
    "    print('Blastoff!')\n",
    "    \n",
    "countdown(10)"
   ]
  },
  {
   "cell_type": "code",
   "execution_count": 4,
   "metadata": {},
   "outputs": [
    {
     "name": "stdout",
     "output_type": "stream",
     "text": [
      "doneisoaspjasodpj\n",
      "alsdn\n",
      "laksndlaks\n",
      "lasndlakns\n",
      "Done!\n"
     ]
    }
   ],
   "source": [
    "# break\n",
    "while True:\n",
    "    line = input('> ')\n",
    "    if line == 'done':\n",
    "        break\n",
    "    print(line)\n",
    "    \n",
    "print('Done!')"
   ]
  },
  {
   "cell_type": "code",
   "execution_count": 6,
   "metadata": {},
   "outputs": [
    {
     "name": "stdout",
     "output_type": "stream",
     "text": [
      "3\n",
      "2.1666666666666665\n",
      "2.0064102564102564\n",
      "2.0000102400262145\n",
      "2.0000000000262146\n",
      "2.0\n"
     ]
    }
   ],
   "source": [
    "# raizes quadradas - método de Newton\n",
    "a = 4\n",
    "x = 3\n",
    "while True:\n",
    "    print(x)\n",
    "    y = (x + a / x) / 2\n",
    "    if y == x:\n",
    "        break\n",
    "    x = y"
   ]
  },
  {
   "cell_type": "markdown",
   "metadata": {},
   "source": [
    "## Glossário\n",
    "\n",
    "- **reatribuição**:\n",
    "    - Atribuir um novo valor a uma variável que já existe.\n",
    "\n",
    "- **atualização**:\n",
    "    - Uma atribuição onde o novo valor da variável dependa do velho.\n",
    "\n",
    "- **inicialização**:\n",
    "    - Uma atribuição que dá um valor inicial a uma variável que será atualizada.\n",
    "\n",
    "- **incremento**:\n",
    "    - Uma atualização que aumenta o valor de uma variável (normalmente por uma unidade).\n",
    "\n",
    "- **decremento**:\n",
    "    - Uma atualização que reduz o valor de uma variável.\n",
    "\n",
    "- **iteração**:\n",
    "    - Execução repetida de um grupo de instruções, usando uma chamada da função recursiva ou um loop.\n",
    "\n",
    "- **loop infinito**:\n",
    "    - Um loop no qual a condição de término nunca é satisfeita.\n",
    "\n",
    "- **algoritmo**:\n",
    "    - Um processo geral para resolver uma categoria de problemas.\n",
    "\n",
    "## Exercícios\n",
    "\n",
    "7.1)"
   ]
  },
  {
   "cell_type": "code",
   "execution_count": 18,
   "metadata": {},
   "outputs": [
    {
     "name": "stdout",
     "output_type": "stream",
     "text": [
      "a   mysqrt(a) \t  math.sqrt(a)\t diff\n",
      "-   --------- \t  ------------\t ----\n",
      "0.5\n",
      "1.0 0.50000000000 1.0000000000 \t 0.5\n",
      "1.0\n",
      "2.0 1.00000000000 1.4142135624 \t 0.41421356237309515\n",
      "1.5\n",
      "3.0 1.50000000000 1.7320508076 \t 0.2320508075688772\n",
      "2.0\n",
      "4.0 2.00000000000 2.0000000000 \t 0.0\n",
      "2.5\n",
      "2.25\n",
      "2.236111111111111\n",
      "2.2360679779158037\n",
      "5.0 2.23606797792 2.2360679775 \t 4.1601389000334166e-10\n",
      "3.0\n",
      "2.5\n",
      "2.45\n",
      "2.4494897959183675\n",
      "6.0 2.44948979592 2.4494897428 \t 5.313518958161012e-08\n",
      "3.5\n",
      "2.75\n",
      "2.6477272727272725\n",
      "2.6457520483808037\n",
      "7.0 2.64575204838 2.6457513111 \t 7.37316212973127e-07\n",
      "4.0\n",
      "3.0\n",
      "2.833333333333333\n",
      "2.8284313725490193\n",
      "8.0 2.82843137255 2.8284271247 \t 4.24780282903825e-06\n",
      "4.5\n",
      "3.25\n",
      "3.0096153846153846\n",
      "3.000015360039322\n",
      "3.0000000000393214\n",
      "9.0 3.00000000004 3.0000000000 \t 3.9321434996963944e-11\n"
     ]
    }
   ],
   "source": [
    "# raizes quadradas - método de Newton\n",
    "import math\n",
    "\n",
    "def mysqrt(a):\n",
    "    x = a / 2\n",
    "    while True:\n",
    "        print(x)\n",
    "        y = (x + a / x) / 2\n",
    "        if x - y < 0.00001:\n",
    "            return x\n",
    "        x = y\n",
    "        \n",
    "# mysqrt(9)\n",
    "print(\"a   mysqrt(a) \\t  math.sqrt(a)\\t diff\")\n",
    "print(\"-   --------- \\t  ------------\\t ----\")\n",
    "\n",
    "a = 1.0\n",
    "while a < 10:\n",
    "    mys = mysqrt(a)\n",
    "    mths = math.sqrt(a)\n",
    "    diff = mys - mths\n",
    "    diff = abs(diff)\n",
    "    print(\"{0:.1f} {1:.11f} {2:.10f} \\t {3}\".format(a, mys, mths, diff))\n",
    "    a += 1"
   ]
  },
  {
   "cell_type": "markdown",
   "metadata": {},
   "source": [
    "7.2)"
   ]
  },
  {
   "cell_type": "code",
   "execution_count": 25,
   "metadata": {},
   "outputs": [
    {
     "name": "stdout",
     "output_type": "stream",
     "text": [
      "\n"
     ]
    }
   ],
   "source": [
    "def eval_loop():\n",
    "    while True:\n",
    "        line = input('> ')\n",
    "        store = ''\n",
    "        if line == 'done':\n",
    "            print(store)\n",
    "            break\n",
    "        else:\n",
    "            store = line\n",
    "            eval(line)\n",
    "    \n",
    "eval_loop()"
   ]
  }
 ],
 "metadata": {
  "kernelspec": {
   "display_name": "Python 3",
   "language": "python",
   "name": "python3"
  },
  "language_info": {
   "codemirror_mode": {
    "name": "ipython",
    "version": 3
   },
   "file_extension": ".py",
   "mimetype": "text/x-python",
   "name": "python",
   "nbconvert_exporter": "python",
   "pygments_lexer": "ipython3",
   "version": "3.12.2"
  }
 },
 "nbformat": 4,
 "nbformat_minor": 2
}
