{
 "cells": [
  {
   "cell_type": "markdown",
   "metadata": {},
   "source": [
    "# Capítulo 3 - Funções\n",
    "\n",
    "- **Função** - sequência nomeada de instruções que executa uma operação de computação."
   ]
  },
  {
   "cell_type": "code",
   "execution_count": 1,
   "metadata": {},
   "outputs": [
    {
     "name": "stdout",
     "output_type": "stream",
     "text": [
      "<class 'int'>\n",
      "32\n",
      "3\n",
      "32.0\n",
      "3.14159\n"
     ]
    }
   ],
   "source": [
    "# função - type. 42 - argumento\n",
    "# resultado - valor de retorno\n",
    "\n",
    "print(type(42))\n",
    "\n",
    "print(int(32))\n",
    "print(int(3.9999))\n",
    "\n",
    "print(float(32))\n",
    "\n",
    "print(str(3.14159))"
   ]
  },
  {
   "cell_type": "code",
   "execution_count": 2,
   "metadata": {},
   "outputs": [
    {
     "name": "stdout",
     "output_type": "stream",
     "text": [
      "0.644217687237691\n",
      "-2.218487496163564\n",
      "0.7071067811865476\n"
     ]
    }
   ],
   "source": [
    "import math\n",
    "\n",
    "radians = 0.7\n",
    "height = math.sin(radians)\n",
    "\n",
    "print(height)\n",
    "\n",
    "##################################\n",
    "\n",
    "signal_power = 30\n",
    "noise_power = 50\n",
    "ratio = signal_power / noise_power\n",
    "decibels = 10 * math.log10(ratio)\n",
    "\n",
    "print(decibels)\n",
    "\n",
    "##################################\n",
    "\n",
    "degrees = 45\n",
    "radians = degrees / 180.0 * math.pi\n",
    "\n",
    "print(math.sin(radians))\n",
    "\n",
    "# math.pi - **precisão aproximada de 15 dígitos\n"
   ]
  },
  {
   "cell_type": "code",
   "execution_count": 3,
   "metadata": {},
   "outputs": [
    {
     "name": "stdout",
     "output_type": "stream",
     "text": [
      "<class 'function'>\n",
      "I'm a lumberjack, and I'm okay.\n",
      "I sleep all night and I work all day.\n",
      "I'm a lumberjack, and I'm okay.\n",
      "I sleep all night and I work all day.\n"
     ]
    }
   ],
   "source": [
    "def print_lyrics():\n",
    "    print(\"I'm a lumberjack, and I'm okay.\")\n",
    "    print(\"I sleep all night and I work all day.\")\n",
    "    \n",
    "def repeat_lyrics():\n",
    "    print_lyrics()\n",
    "    print_lyrics()\n",
    "    \n",
    "print(type(print_lyrics))\n",
    "repeat_lyrics()"
   ]
  },
  {
   "cell_type": "code",
   "execution_count": 4,
   "metadata": {},
   "outputs": [
    {
     "name": "stdout",
     "output_type": "stream",
     "text": [
      "42\n",
      "42\n",
      "3.141592653589793\n",
      "3.141592653589793\n",
      "SpawSpawSpawSpaw\n",
      "SpawSpawSpawSpaw\n",
      "-1.0\n",
      "-1.0\n",
      "None\n",
      "<class 'NoneType'>\n"
     ]
    }
   ],
   "source": [
    "def print_twice(bruce):\n",
    "    print(bruce)\n",
    "    print(bruce)\n",
    "    \n",
    "print_twice(42)\n",
    "print_twice(math.pi)\n",
    "print_twice('Spaw' * 4)\n",
    "\n",
    "result = print_twice(math.cos(math.pi))\n",
    "\n",
    "print(result)\n",
    "print(type(result))"
   ]
  },
  {
   "cell_type": "markdown",
   "metadata": {},
   "source": [
    "## Glossário\n",
    "\n",
    "- **função**:\n",
    "    - Uma sequência nomeada de declarações que executa alguma operação útil. As funções podem receber argumentos ou não e podem ou não produzir algum resultado.\n",
    "\n",
    "- **definição de função**:\n",
    "    - Uma instrução que cria uma função nova, especificando seu nome, parâmetros e as instruções que contém.\n",
    "\n",
    "- **objeto da função**:\n",
    "    - Um valor é criado por uma definição de função. O nome da função é uma variável que se refere a um objeto de função.\n",
    "\n",
    "- **cabeçalho**:\n",
    "    - A primeira linha de uma definição de função.\n",
    "\n",
    "- **corpo**:\n",
    "    - A sequência de instruções dentro de uma definição de função.\n",
    "\n",
    "- **parâmetro**:\n",
    "    - Um nome usado dentro de uma função para se referir ao valor passado como argumento.\n",
    "\n",
    "- **chamada de função**:\n",
    "    - Uma instrução que executa uma função. É composta pelo nome da função seguido de uma lista de argumentos entre parênteses.\n",
    "\n",
    "- **argumento**:\n",
    "    - Um valor apresentado a uma função quando a função é chamada. Este valor é atribuído ao parâmetro correspondente na função.\n",
    "\n",
    "- **variável local**:\n",
    "    - Uma variável definida dentro de uma função. Uma variável local só pode ser usada dentro da sua função.\n",
    "\n",
    "- **valor de retorno**:\n",
    "    - O resultado de uma função. Se uma chamada de função for usada como uma expressão, o valor de retorno é o valor da expressão.\n",
    "\n",
    "- **função com resultado**:\n",
    "    - Uma função que devolve um valor.\n",
    "\n",
    "- **função nula**:\n",
    "    - Uma função que sempre devolve None.\n",
    "\n",
    "- **None**:\n",
    "    - Um valor especial apresentado por funções nulas.\n",
    "\n",
    "- **módulo**:\n",
    "    - Um arquivo que contém uma coleção de funções relacionadas e outras definições.\n",
    "\n",
    "- **instrução de importação**:\n",
    "    - Uma instrução que lê um arquivo de módulo e cria um objeto de módulo.\n",
    "\n",
    "- **objeto de módulo**:\n",
    "    - Um valor criado por uma instrução import que oferece acesso aos valores definidos em um módulo.\n",
    "\n",
    "- **notação de ponto**:\n",
    "    - A sintaxe para chamar uma função em outro módulo especificando o nome do módulo seguido de um ponto e o nome da função.\n",
    "\n",
    "- **composição**:\n",
    "    - O uso de uma expressão como parte de uma expressão maior ou de uma instrução como parte de uma instrução maior.\n",
    "\n",
    "- **fluxo de execução**:\n",
    "    - A ordem na qual as instruções são executadas.\n",
    "\n",
    "- **diagrama da pilha**:\n",
    "    - Representação gráfica de uma pilha de funções, suas variáveis e os valores a que se referem.\n",
    "\n",
    "- **frame**:\n",
    "    - Uma caixa em um diagrama da pilha que representa uma chamada de função. Contém as variáveis locais e os parâmetros da função.\n",
    "\n",
    "- **traceback**:\n",
    "    - Lista das funções que estão sendo executadas, exibidas quando ocorre uma exceção.\n",
    "\n",
    "## Exercícios\n",
    "\n",
    "3.1) Escreva uma função chamada right_justify, que receba uma string chamada s como parâmetro e exiba a string com espaços suficientes à frente para que a última letra da string esteja na coluna 70 da tela:"
   ]
  },
  {
   "cell_type": "code",
   "execution_count": 5,
   "metadata": {},
   "outputs": [
    {
     "name": "stdout",
     "output_type": "stream",
     "text": [
      "                                                                 Viva!\n",
      "                              SpawSpawSpawSpawSpawSpawSpawSpawSpawSpaw\n"
     ]
    }
   ],
   "source": [
    "def right_justify(s):\n",
    "    coluna = 70\n",
    "    result = ' '*(coluna - len(s)) + s\n",
    "    print(result)\n",
    "    \n",
    "right_justify('Viva!')\n",
    "right_justify('Spaw' * 10)"
   ]
  },
  {
   "cell_type": "markdown",
   "metadata": {},
   "source": [
    "3.2) Um objeto de função é um valor que pode ser atribuído a uma variável ou passado como argumento. Por exemplo, do_twice é uma função que toma um objeto de função como argumento e o chama duas vezes:\n",
    "\n",
    "```Python\n",
    "def do_twice(f):\n",
    "    f()\n",
    "    f()\n",
    "```\n",
    "\n",
    "Aqui está um exemplo que usa do_twice para chamar uma função chamada print_spam duas vezes:\n",
    "\n",
    "```Python\n",
    "def print_spam():\n",
    "    print('spam')\n",
    "do_twice(print_spam)\n",
    "```\n",
    "\n",
    "1. Digite este exemplo em um script e teste-o.\n",
    "\n",
    "2. Altere do_twice para que receba dois argumentos, um objeto de função e um valor, e chame a função duas vezes, passando o valor como um argumento.\n",
    "\n",
    "3. Copie a definição de print_twice que aparece anteriormente neste capítulo no seu script.\n",
    "\n",
    "4. Use a versão alterada de do_twice para chamar print_twice duas vezes, passando 'spam' como um argumento.\n",
    "\n",
    "5. Defina uma função nova chamada do_four que receba um objeto de função e um valor e chame a função quatro vezes, passando o valor como um parâmetro. Deve haver só duas afirmações no corpo desta função, não quatro."
   ]
  },
  {
   "cell_type": "code",
   "execution_count": 6,
   "metadata": {},
   "outputs": [
    {
     "name": "stdout",
     "output_type": "stream",
     "text": [
      "spam\n",
      "spam\n",
      "spam2\n",
      "spam2\n",
      "spam2\n",
      "spam2\n",
      "spam3\n",
      "spam3\n",
      "spam3\n",
      "spam3\n",
      "spam3\n",
      "spam3\n",
      "spam3\n",
      "spam3\n"
     ]
    }
   ],
   "source": [
    "def do_twice(f):\n",
    "    f()\n",
    "    f()\n",
    "    \n",
    "def print_spam():\n",
    "    print('spam')\n",
    "    \n",
    "do_twice(print_spam)\n",
    "\n",
    "#################################\n",
    "\n",
    "def do_twice(f, valor):\n",
    "    f(valor)\n",
    "    f(valor)\n",
    "    \n",
    "def print_twice(bruce):\n",
    "    print(bruce)\n",
    "    print(bruce)\n",
    "    \n",
    "do_twice(print_twice, 'spam2')\n",
    "\n",
    "#################################\n",
    "\n",
    "def do_four(f, value):\n",
    "    do_twice(f, value)\n",
    "    do_twice(f, value)\n",
    "    \n",
    "do_four(print_twice, 'spam3')"
   ]
  },
  {
   "cell_type": "markdown",
   "metadata": {},
   "source": [
    "3.3) Nota: Este exercício deve ser feito usando-se apenas as instruções e os outros recursos que aprendemos até agora.\n",
    "\n",
    "Escreva uma função que desenhe uma grade como a seguinte:\n",
    "```\n",
    "        + - - - - + - - - - +\n",
    "        |         |         |\n",
    "        |         |         |\n",
    "        |         |         |\n",
    "        |         |         |\n",
    "        + - - - - + - - - - +\n",
    "        |         |         |\n",
    "        |         |         |\n",
    "        |         |         |\n",
    "        |         |         |\n",
    "        + - - - - + - - - - +\n",
    "```"
   ]
  },
  {
   "cell_type": "code",
   "execution_count": 7,
   "metadata": {},
   "outputs": [
    {
     "name": "stdout",
     "output_type": "stream",
     "text": [
      "+ - - - - + - - - - +\n",
      "|         |         |\n",
      "|         |         |\n",
      "|         |         |\n",
      "|         |         |\n",
      "+ - - - - + - - - - +\n",
      "|         |         |\n",
      "|         |         |\n",
      "|         |         |\n",
      "|         |         |\n",
      "+ - - - - + - - - - +\n"
     ]
    }
   ],
   "source": [
    "def do_twice(f):\n",
    "    f()\n",
    "    f()\n",
    "    \n",
    "def do_four(f):\n",
    "    do_twice(f)\n",
    "    do_twice(f)\n",
    "    \n",
    "def print_beam():\n",
    "    print('+ - - - -', end=' ')\n",
    "    \n",
    "def print_post():\n",
    "    print('|        ', end=' ')\n",
    "    \n",
    "def print_beams():\n",
    "    do_twice(print_beam)\n",
    "    print('+')\n",
    "    \n",
    "def print_posts():\n",
    "    do_twice(print_post)\n",
    "    print('|')\n",
    "    \n",
    "def print_row():\n",
    "    print_beams()\n",
    "    do_four(print_posts)\n",
    "    \n",
    "def print_grid():\n",
    "    do_twice(print_row)\n",
    "    print_beams()\n",
    "    \n",
    "print_grid()"
   ]
  }
 ],
 "metadata": {
  "kernelspec": {
   "display_name": "Python 3",
   "language": "python",
   "name": "python3"
  },
  "language_info": {
   "codemirror_mode": {
    "name": "ipython",
    "version": 3
   },
   "file_extension": ".py",
   "mimetype": "text/x-python",
   "name": "python",
   "nbconvert_exporter": "python",
   "pygments_lexer": "ipython3",
   "version": "3.12.2"
  }
 },
 "nbformat": 4,
 "nbformat_minor": 2
}
