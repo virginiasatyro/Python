{
 "cells": [
  {
   "cell_type": "markdown",
   "metadata": {},
   "source": [
    "# Capítulo 4 - Estrudo de caso: projeto de interface"
   ]
  },
  {
   "cell_type": "code",
   "execution_count": 1,
   "metadata": {},
   "outputs": [
    {
     "name": "stdout",
     "output_type": "stream",
     "text": [
      "<turtle.Turtle object at 0x0000021EFFBD2B70>\n"
     ]
    }
   ],
   "source": [
    "import turtle\n",
    "bob = turtle.Turtle() # cria uma janela com uma seta no meio\n",
    "\n",
    "print(bob) # <turtle.Turtle object at 0x000001FE3D896630>\n",
    "turtle.mainloop() # janela deve esperar até que o usuário faça algo\n",
    "\n",
    "# bob.fd(100) -> para bob avançar\n",
    "# outros módulos bk - lt - rt - pu - pd"
   ]
  },
  {
   "cell_type": "markdown",
   "metadata": {},
   "source": [
    "## Glossário \n",
    "\n",
    "- **método**:\n",
    "    - Uma função associada a um objeto e chamada usando a notação de ponto.\n",
    "\n",
    "- **loop**:\n",
    "    - Parte de um programa que pode ser executada repetidamente.\n",
    "\n",
    "- **encapsulamento**:\n",
    "    - O processo de transformar uma sequência de instruções em uma definição de função.\n",
    "\n",
    "- **generalização**:\n",
    "    - O processo de substituir algo desnecessariamente específico (como um número) por algo adequadamente geral (como uma variável ou parâmetro).\n",
    "\n",
    "- **argumento de palavra-chave**:\n",
    "    - Um argumento que inclui o nome do parâmetro como uma “palavra-chave”.\n",
    "\n",
    "- **interface**:\n",
    "    - Uma descrição de como usar uma função, incluindo o nome e as descrições dos argumentos e do valor de retorno.\n",
    "\n",
    "- **refatoração**:\n",
    "    - O processo de alterar um programa funcional para melhorar a interface de funções e outras qualidades do código.\n",
    "\n",
    "- **plano de desenvolvimento**:\n",
    "    - Um processo de escrever programas.\n",
    "\n",
    "- **docstring**:\n",
    "    - Uma string que aparece no início de uma definição de função para documentar a interface da função.\n",
    "\n",
    "- **precondição**:\n",
    "    - Uma exigência que deve ser satisfeita por quem chama a função, antes de executá-la.\n",
    "\n",
    "- **pós-condição**:\n",
    "    - Uma exigência que deve ser satisfeita pela função antes que ela seja encerrada."
   ]
  }
 ],
 "metadata": {
  "kernelspec": {
   "display_name": "Python 3",
   "language": "python",
   "name": "python3"
  },
  "language_info": {
   "codemirror_mode": {
    "name": "ipython",
    "version": 3
   },
   "file_extension": ".py",
   "mimetype": "text/x-python",
   "name": "python",
   "nbconvert_exporter": "python",
   "pygments_lexer": "ipython3",
   "version": "3.12.2"
  }
 },
 "nbformat": 4,
 "nbformat_minor": 2
}
