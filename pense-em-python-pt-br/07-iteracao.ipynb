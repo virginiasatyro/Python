{
 "cells": [
  {
   "cell_type": "markdown",
   "metadata": {},
   "source": [
    "# Capítulo 7 - Iteração"
   ]
  },
  {
   "cell_type": "code",
   "execution_count": 2,
   "metadata": {},
   "outputs": [
    {
     "name": "stdout",
     "output_type": "stream",
     "text": [
      "10\n",
      "9\n",
      "8\n",
      "7\n",
      "6\n",
      "5\n",
      "4\n",
      "3\n",
      "2\n",
      "1\n",
      "Blastoff!\n"
     ]
    }
   ],
   "source": [
    "# while\n",
    "def countdown(n):\n",
    "    while n > 0:\n",
    "        print(n)\n",
    "        n = n - 1\n",
    "    print('Blastoff!')\n",
    "    \n",
    "countdown(10)"
   ]
  },
  {
   "cell_type": "code",
   "execution_count": 4,
   "metadata": {},
   "outputs": [
    {
     "name": "stdout",
     "output_type": "stream",
     "text": [
      "doneisoaspjasodpj\n",
      "alsdn\n",
      "laksndlaks\n",
      "lasndlakns\n",
      "Done!\n"
     ]
    }
   ],
   "source": [
    "# break\n",
    "while True:\n",
    "    line = input('> ')\n",
    "    if line == 'done':\n",
    "        break\n",
    "    print(line)\n",
    "    \n",
    "print('Done!')"
   ]
  },
  {
   "cell_type": "code",
   "execution_count": 6,
   "metadata": {},
   "outputs": [
    {
     "name": "stdout",
     "output_type": "stream",
     "text": [
      "3\n",
      "2.1666666666666665\n",
      "2.0064102564102564\n",
      "2.0000102400262145\n",
      "2.0000000000262146\n",
      "2.0\n"
     ]
    }
   ],
   "source": [
    "# raizes quadradas - método de Newton\n",
    "a = 4\n",
    "x = 3\n",
    "while True:\n",
    "    print(x)\n",
    "    y = (x + a / x) / 2\n",
    "    if y == x:\n",
    "        break\n",
    "    x = y"
   ]
  },
  {
   "cell_type": "markdown",
   "metadata": {},
   "source": [
    "## Glossário\n",
    "\n",
    "- **reatribuição**:\n",
    "    - Atribuir um novo valor a uma variável que já existe.\n",
    "\n",
    "- **atualização**:\n",
    "    - Uma atribuição onde o novo valor da variável dependa do velho.\n",
    "\n",
    "- **inicialização**:\n",
    "    - Uma atribuição que dá um valor inicial a uma variável que será atualizada.\n",
    "\n",
    "- **incremento**:\n",
    "    - Uma atualização que aumenta o valor de uma variável (normalmente por uma unidade).\n",
    "\n",
    "- **decremento**:\n",
    "    - Uma atualização que reduz o valor de uma variável.\n",
    "\n",
    "- **iteração**:\n",
    "    - Execução repetida de um grupo de instruções, usando uma chamada da função recursiva ou um loop.\n",
    "\n",
    "- **loop infinito**:\n",
    "    - Um loop no qual a condição de término nunca é satisfeita.\n",
    "\n",
    "- **algoritmo**:\n",
    "    - Um processo geral para resolver uma categoria de problemas.\n",
    "\n",
    "## Exercícios\n",
    "\n",
    "7.1) Copie o loop de “Raízes quadradas”, na página 111, e encapsule-o em uma função chamada ```mysqrt``` que receba a como parâmetro, escolha um valor razoável de x e devolva uma estimativa da raiz quadrada de a.\n",
    "\n",
    "Para testar, escreva uma função denominada ```test_square_root```, que exibe uma tabela como esta:\n",
    "\n",
    "```\n",
    "a   mysqrt(a)     math.sqrt(a)  diff\n",
    "-   ---------     ------------  ----\n",
    "1.0 1.0           1.0           0.0\n",
    "2.0 1.41421356237 1.41421356237 2.22044604925e-16\n",
    "3.0 1.73205080757 1.73205080757 0.0\n",
    "4.0 2.0           2.0           0.0\n",
    "5.0 2.2360679775  2.2360679775  0.0\n",
    "6.0 2.44948974278 2.44948974278 0.0\n",
    "7.0 2.64575131106 2.64575131106 0.0\n",
    "8.0 2.82842712475 2.82842712475 4.4408920985e-16\n",
    "9.0 3.0           3.0           0.0\n",
    "\n",
    "```\n",
    "\n",
    "A primeira coluna é um número, ```a```; a segunda coluna é a raiz quadrada de a calculada com ```mysqrt```; a terceira coluna é a raiz quadrada calculada por ```math.sqrt```; a quarta coluna é o valor absoluto da diferença entre as duas estimativas."
   ]
  },
  {
   "cell_type": "code",
   "execution_count": 38,
   "metadata": {},
   "outputs": [
    {
     "name": "stdout",
     "output_type": "stream",
     "text": [
      "a   mysqrt(a) \t  math.sqrt(a)\t diff\n",
      "-   --------- \t  ------------\t ----\n",
      "1.0 1.00000000000 1.00000000000 0.0\n",
      "2.0 1.41421356237 1.41421356237 3.0950797480500114e-12\n",
      "3.0 1.73205080757 1.73205080757 1.1228795671058833e-12\n",
      "4.0 2.00000000000 2.00000000000 0.0\n",
      "5.0 2.23606797792 2.23606797750 4.202100889472149e-10\n",
      "6.0 2.44948974278 2.44948974278 3.177902385687048e-12\n",
      "7.0 2.64575131106 2.64575131106 4.590550162220097e-12\n",
      "8.0 2.82842712475 2.82842712475 3.809841331303687e-12\n",
      "9.0 3.00000000004 3.00000000000 4.000000330961484e-11\n"
     ]
    }
   ],
   "source": [
    "# raizes quadradas - método de Newton\n",
    "import math\n",
    "\n",
    "def mysqrt(a):\n",
    "    x = a / 2\n",
    "    while True:\n",
    "        #print(x)\n",
    "        y = (x + (a / x)) / 2\n",
    "        #if x - y < 0.0000001:\n",
    "        if abs(y - x) < 0.000000001:\n",
    "            return round(x, 11)\n",
    "        x = y\n",
    "        \n",
    "# mysqrt(9)\n",
    "print(\"a   mysqrt(a) \\t  math.sqrt(a)\\t diff\")\n",
    "print(\"-   --------- \\t  ------------\\t ----\")\n",
    "\n",
    "a = 1.0\n",
    "while a < 10:\n",
    "    mys = mysqrt(a)\n",
    "    mths = math.sqrt(a)\n",
    "    diff = abs(mys - mths)\n",
    "    print(\"{0:.1f} {1:.11f} {2:.11f} {3}\".format(a, mys, mths, diff))\n",
    "    a += 1"
   ]
  },
  {
   "cell_type": "markdown",
   "metadata": {},
   "source": [
    "7.2) A função integrada ```eval``` toma uma string e a avalia, usando o interpretador do Python. Por exemplo:\n",
    "\n",
    "```\n",
    ">>> eval('1 + 2 * 3')\n",
    "7\n",
    ">>> import math\n",
    ">>> eval('math.sqrt(5)')\n",
    "2.2360679774997898\n",
    ">>> eval('type(math.pi)')\n",
    "<class 'float'>\n",
    "```\n",
    "\n",
    "Escreva uma função chamada ```eval_loop``` que iterativamente peça uma entrada ao usuário, a avalie usando ```eval``` e exiba o resultado.\n",
    "\n",
    "Ela deve continuar até que o usuário digite ```done```; então deverá exibir o valor da última expressão avaliada."
   ]
  },
  {
   "cell_type": "code",
   "execution_count": 37,
   "metadata": {},
   "outputs": [
    {
     "name": "stdout",
     "output_type": "stream",
     "text": [
      "3\n",
      "2.23606797749979\n",
      "Done!\n"
     ]
    }
   ],
   "source": [
    "def eval_loop():\n",
    "    while True:\n",
    "        line = input('> ')\n",
    "        if line == 'done':\n",
    "            print('Done!')\n",
    "            break\n",
    "        else:\n",
    "            print(eval(line))\n",
    "    \n",
    "eval_loop()"
   ]
  },
  {
   "cell_type": "markdown",
   "metadata": {},
   "source": [
    "7.3)  O matemático Srinivasa Ramanujan encontrou uma série infinita que pode ser usada para gerar uma aproximação numérica de 1/π:\n",
    "\n",
    "Fórmula – Aproximação de π pela série de Ramanujan.\n",
    "\n",
    "Escreva uma função chamada ```estimate_pi``` que use esta fórmula para computar e devolver uma estimativa de π. Você deve usar o loop ```while``` para calcular os termos da adição até que o último termo seja menor que 1e-15 (que é a notação do Python para ```10 ** 15```). Você pode verificar o resultado comparando-o com ```math.pi```."
   ]
  },
  {
   "cell_type": "code",
   "execution_count": 40,
   "metadata": {},
   "outputs": [
    {
     "name": "stdout",
     "output_type": "stream",
     "text": [
      "3.141592653589793\n",
      "0.3183098861837907\n"
     ]
    }
   ],
   "source": [
    "print(math.pi)\n",
    "print(1 / math.pi)"
   ]
  },
  {
   "cell_type": "code",
   "execution_count": 69,
   "metadata": {},
   "outputs": [
    {
     "name": "stdout",
     "output_type": "stream",
     "text": [
      "retrun\n",
      "0.3183098861837907\n"
     ]
    }
   ],
   "source": [
    "def estimate_pi():\n",
    "    k = 0\n",
    "    totalSum = 0\n",
    "    while True:\n",
    "        num = math.factorial(4 * k) * (1103 + 26390 * k)\n",
    "        denom = (math.factorial(k) ** 4) * (396 ** (4 * k))\n",
    "        term = num / denom\n",
    "        k += 1\n",
    "        totalSum = totalSum + term\n",
    "        if (abs(term) < 1e-15):\n",
    "            break\n",
    "        \n",
    "    factor = 2 * math.sqrt(2) / 9801\n",
    "    return factor * totalSum\n",
    "\n",
    "print(estimate_pi())"
   ]
  }
 ],
 "metadata": {
  "kernelspec": {
   "display_name": "Python 3",
   "language": "python",
   "name": "python3"
  },
  "language_info": {
   "codemirror_mode": {
    "name": "ipython",
    "version": 3
   },
   "file_extension": ".py",
   "mimetype": "text/x-python",
   "name": "python",
   "nbconvert_exporter": "python",
   "pygments_lexer": "ipython3",
   "version": "3.12.2"
  }
 },
 "nbformat": 4,
 "nbformat_minor": 2
}
