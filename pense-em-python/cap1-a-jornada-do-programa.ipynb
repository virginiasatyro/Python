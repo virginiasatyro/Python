{
 "cells": [
  {
   "cell_type": "markdown",
   "metadata": {},
   "source": [
    "# Capítulo 1 - A jornada do programa\n",
    "\n",
    "- **Programa** - sequência de instruções que especifica como executar uma operação de computação.\n",
    "- Instruções básicas: entrada, saída, matemática, execução condicional e repetição.\n",
    "- **Interpretador** do Python é um programa que lê e executa o código Python."
   ]
  },
  {
   "cell_type": "code",
   "execution_count": 9,
   "metadata": {},
   "outputs": [
    {
     "name": "stdout",
     "output_type": "stream",
     "text": [
      "Hello, World!\n",
      "<class 'int'>\n",
      "<class 'float'>\n",
      "<class 'str'>\n",
      "<class 'str'>\n"
     ]
    }
   ],
   "source": [
    "print (\"Hello, World!\")\n",
    "\n",
    "print(type(2))\n",
    "print(type(42.0))\n",
    "print(type('Hello, World!'))\n",
    "print(type(\"Hello, World!\"))"
   ]
  },
  {
   "cell_type": "markdown",
   "metadata": {},
   "source": [
    "- **Linguagens naturais** - idiomas que as pessoas falam.\n",
    "- **Linguagens formais** - linguagens criadas pelas pessoas para aplicações específicas (matemática, química).\n",
    "- **Linguagens de programação** - são idiomas formais criados para expressar operações de computação.\n",
    "- Linguagens formais e naturais tem características em comum: símbolos, estrutura, sintaxe. Mas apresentam diferenças: ambiguidade, redundância e literalidade.\n",
    "\n",
    "## Glossário\n",
    "\n",
    "- **resolução de problemas**:\n",
    "O processo de formular um problema, encontrar uma solução e expressá-la.\n",
    "\n",
    "- **linguagem de alto nível**:\n",
    "Uma linguagem de programação como Python, que foi criada com o intuito de ser fácil para os humanos escreverem e lerem.\n",
    "\n",
    "- **linguagem de baixo nível**:\n",
    "Uma linguagem de programação criada para o computador executar com facilidade; também chamada de “linguagem de máquina” ou “linguagem assembly”. \n",
    "\n",
    "- **portabilidade**:\n",
    "A propriedade de um programa de poder ser executado em mais de um tipo de computador.\n",
    "\n",
    "- **interpretador**:\n",
    "Um programa que lê outro programa e o executa.\n",
    "\n",
    "- **prompt**:\n",
    "Caracteres expostos pelo interpretador para indicar que está pronto para receber entradas do usuário.\n",
    "\n",
    "- **programa**:\n",
    "Conjunto de instruções que especificam uma operação de computação.\n",
    "\n",
    "- **instrução print**:\n",
    "Uma instrução que faz o interpretador do Python exibir um valor na tela.\n",
    "\n",
    "- **operador**:\n",
    "Um símbolo especial que representa uma operação de computação simples como adição, multiplicação ou concatenação de strings.\n",
    "\n",
    "- **valor**:\n",
    "Uma das unidades básicas de dados, como um número ou string, que um programa manipula.\n",
    "\n",
    "- **tipo**:\n",
    "Uma categoria de valores. Os tipos que vimos por enquanto são números inteiros (tipo int), números de ponto flutuante (tipo float) e strings (tipo str).\n",
    "\n",
    "- **inteiro**:\n",
    "Um tipo que representa números inteiros.\n",
    "\n",
    "- **ponto flutuante**:\n",
    "Um tipo que representa números com partes fracionárias.\n",
    "\n",
    "- **string**:\n",
    "Um tipo que representa sequências de caracteres.\n",
    "\n",
    "- **linguagem natural**:\n",
    "Qualquer linguagem que as pessoas falam e que se desenvolveu naturalmente.\n",
    "\n",
    "- **linguagem formal**:\n",
    "Qualquer linguagem que as pessoas criaram com objetivos específicos, como representar ideias matemáticas ou programas de computador; todas as linguagens de programação são linguagens formais.\n",
    "\n",
    "- **símbolo**:\n",
    "Um dos elementos básicos da estrutura sintática de um programa, análogo a uma palavra em linguagem natural.\n",
    "\n",
    "- **sintaxe**:\n",
    "As regras que governam a estrutura de um programa.\n",
    "\n",
    "- **análise**:\n",
    "Examinar um programa e sua estrutura sintática.\n",
    "\n",
    "- **bug**:\n",
    "Um erro em um programa.\n",
    "\n",
    "- **depuração**:\n",
    "O processo de encontrar e corrigir (depurar) bugs.\n",
    "\n",
    "## Exercícios\n",
    "\n",
    "1) Quantos segundos há em 42 minutos e 42 segudos?"
   ]
  },
  {
   "cell_type": "code",
   "execution_count": 19,
   "metadata": {},
   "outputs": [
    {
     "name": "stdout",
     "output_type": "stream",
     "text": [
      "2562\n"
     ]
    }
   ],
   "source": [
    "minutos = 42\n",
    "segundos = 42\n",
    "\n",
    "total_segundos = (minutos * 60) + segundos\n",
    "\n",
    "print(total_segundos)"
   ]
  },
  {
   "cell_type": "markdown",
   "metadata": {},
   "source": [
    "2) Quantas milhas há em 10 quilômetros? (1 milha equivalie a 1,61 quilômetro)"
   ]
  },
  {
   "cell_type": "code",
   "execution_count": 23,
   "metadata": {},
   "outputs": [
    {
     "name": "stdout",
     "output_type": "stream",
     "text": [
      "6.211180124223602\n"
     ]
    }
   ],
   "source": [
    "quilometros = 10\n",
    "conversao_milhas = 1.61\n",
    "milhas = quilometros / conversao_milhas\n",
    "\n",
    "print(milhas)"
   ]
  },
  {
   "cell_type": "markdown",
   "metadata": {},
   "source": [
    "3) Qual velocidade média em milhas por hora?"
   ]
  },
  {
   "cell_type": "code",
   "execution_count": 25,
   "metadata": {},
   "outputs": [
    {
     "name": "stdout",
     "output_type": "stream",
     "text": [
      "8.727653570337614\n"
     ]
    }
   ],
   "source": [
    "total_horas = total_segundos / 60 / 60\n",
    "milhas_por_hora = milhas / total_horas\n",
    "\n",
    "print(milhas_por_hora)"
   ]
  }
 ],
 "metadata": {
  "kernelspec": {
   "display_name": "Python 3",
   "language": "python",
   "name": "python3"
  },
  "language_info": {
   "codemirror_mode": {
    "name": "ipython",
    "version": 3
   },
   "file_extension": ".py",
   "mimetype": "text/x-python",
   "name": "python",
   "nbconvert_exporter": "python",
   "pygments_lexer": "ipython3",
   "version": "3.12.2"
  }
 },
 "nbformat": 4,
 "nbformat_minor": 2
}
