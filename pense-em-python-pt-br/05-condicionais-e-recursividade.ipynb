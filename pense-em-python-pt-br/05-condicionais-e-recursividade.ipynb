{
 "cells": [
  {
   "cell_type": "markdown",
   "metadata": {},
   "source": [
    "# Capítulo 5 - Condicionais e recursividade"
   ]
  },
  {
   "cell_type": "code",
   "execution_count": 10,
   "metadata": {},
   "outputs": [
    {
     "name": "stdout",
     "output_type": "stream",
     "text": [
      "1.75\n",
      "1\n",
      "45\n",
      "45\n",
      "Nao divisivel\n",
      "0\n",
      "4\n",
      "34\n",
      "234\n",
      "1234\n"
     ]
    }
   ],
   "source": [
    "# divisão normal\n",
    "minutes = 105\n",
    "print(minutes / 60)\n",
    "\n",
    "# divisão pelo piso\n",
    "hours = minutes // 60\n",
    "print(hours)\n",
    "\n",
    "remainder = minutes - hours * 60\n",
    "print(remainder)\n",
    "\n",
    "# operador módulo \n",
    "reminder = minutes % 60\n",
    "print(remainder)\n",
    "\n",
    "# teste divisível\n",
    "x = 50\n",
    "y = 11\n",
    "\n",
    "if(x % y == 0):\n",
    "    print(\"Divisivel\")\n",
    "else:\n",
    "    print(\"Nao divisivel\")\n",
    "\n",
    "x = 1234\n",
    "\n",
    "print(x % 1)\n",
    "print(x % 10)\n",
    "print(x % 100)\n",
    "print(x % 1000)\n",
    "print(x % 10000)"
   ]
  },
  {
   "cell_type": "code",
   "execution_count": 6,
   "metadata": {},
   "outputs": [
    {
     "name": "stdout",
     "output_type": "stream",
     "text": [
      "True\n",
      "False\n",
      "<class 'bool'>\n",
      "True\n",
      "42\n",
      "False\n"
     ]
    }
   ],
   "source": [
    "# expressões booleanas\n",
    "print(5 == 5)\n",
    "print(5 == 6)\n",
    "\n",
    "print(type(True))\n",
    "\n",
    "# operadores lógicos\n",
    "print(42 and True)\n",
    "print(42 or True)\n",
    "print(not True)"
   ]
  },
  {
   "cell_type": "code",
   "execution_count": 10,
   "metadata": {},
   "outputs": [
    {
     "name": "stdout",
     "output_type": "stream",
     "text": [
      "x is positive\n",
      "x is even\n",
      "x is less than y\n"
     ]
    }
   ],
   "source": [
    "# instruções condicionais\n",
    "x = 10\n",
    "\n",
    "if x > 0:\n",
    "    print('x is positive')\n",
    "    \n",
    "if x < 0:\n",
    "    pass # A FAZER: lidar com valores negativos!\n",
    "\n",
    "if x % 2 == 0:\n",
    "    print('x is even')\n",
    "else:\n",
    "    print('x is odd')\n",
    "    \n",
    "y = 25\n",
    "\n",
    "# condicional encadeada\n",
    "if x < y:\n",
    "    print('x is less than y')\n",
    "elif x > y:\n",
    "    print('x is greater than y')\n",
    "else:\n",
    "    print('x and y are equal')"
   ]
  },
  {
   "cell_type": "code",
   "execution_count": 14,
   "metadata": {},
   "outputs": [
    {
     "name": "stdout",
     "output_type": "stream",
     "text": [
      "10\n",
      "9\n",
      "8\n",
      "7\n",
      "6\n",
      "5\n",
      "4\n",
      "3\n",
      "2\n",
      "1\n",
      "Blastoff!\n",
      "Hello\n",
      "Hello\n",
      "Hello\n"
     ]
    }
   ],
   "source": [
    "# recursividade\n",
    "def countdown(n):\n",
    "    if n <= 0:\n",
    "        print('Blastoff!')\n",
    "    else:\n",
    "        print(n)\n",
    "        countdown(n - 1)\n",
    "        \n",
    "countdown(10)\n",
    "\n",
    "# -----------------------\n",
    "\n",
    "def print_n(s, n):\n",
    "    if n <= 0:\n",
    "        return # condição de retorno\n",
    "    print(s)\n",
    "    print_n(s, n - 1)\n",
    "    \n",
    "print_n('Hello', 3)"
   ]
  },
  {
   "cell_type": "code",
   "execution_count": 15,
   "metadata": {},
   "outputs": [
    {
     "name": "stdout",
     "output_type": "stream",
     "text": [
      "Hello!\n"
     ]
    }
   ],
   "source": [
    "# entrada de teclado\n",
    "text = input()\n",
    "print(text)"
   ]
  },
  {
   "cell_type": "markdown",
   "metadata": {},
   "source": [
    "## Glossário\n",
    "\n",
    "- **divisão pelo piso**:\n",
    "    - Um operador, denotado por `//`, que divide dois números e arredonda o resultado para baixo (em direção ao zero), a um número inteiro.\n",
    "\n",
    "- **operador módulo**:\n",
    "    - Um operador, denotado com um sinal de percentagem (`%`), que funciona com números inteiros e devolve o resto quando um número é dividido por outro.\n",
    "\n",
    "- **expressão booleana**:\n",
    "    - Uma expressão cujo valor é `True` (verdadeiro) ou `False` (falso).\n",
    "\n",
    "- **operador relacional**:\n",
    "    - Um destes operadores, que compara seus operandos: `==`, `!=`, `>`, `<`, `>=` e `<=`.\n",
    "\n",
    "- **operador lógico**:\n",
    "    - Um destes operadores, que combina expressões booleanas: `and` (e), `or` (ou) e `not` (não).\n",
    "\n",
    "- **instrução condicional**:\n",
    "    - Uma instrução que controla o fluxo de execução, dependendo de alguma condição.\n",
    "\n",
    "- **condição**:\n",
    "    - A expressão booleana em uma instrução condicional que determina qual ramo deve ser executado.\n",
    "\n",
    "- **instrução composta**:\n",
    "    - Uma instrução composta de um cabeçalho e um corpo. O cabeçalho termina em dois pontos (`:`). O corpo é endentado em relação ao cabeçalho.\n",
    "\n",
    "- **ramo**:\n",
    "    - Uma das sequências alternativas de instruções em uma instrução condicional.\n",
    "\n",
    "- **condicional encadeada**:\n",
    "    - Uma instrução condicional com uma série de ramos alternativos.\n",
    "\n",
    "- **condicional aninhada**:\n",
    "    - Uma instrução condicional que aparece em um dos ramos de outra instrução condicional.\n",
    "\n",
    "- **instrução de retorno**:\n",
    "    - Uma instrução que faz uma função terminar imediatamente e voltar a quem a chamou.\n",
    "\n",
    "- **recursividade**:\n",
    "    - O processo de chamar a função que está sendo executada no momento.\n",
    "\n",
    "- **caso-base**:\n",
    "    - Um ramo condicional em uma função recursiva que não faz uma chamada recursiva.\n",
    "\n",
    "- **recursividade infinita**:\n",
    "    - Recursividade que não tem um caso-base, ou nunca o atinge. A recursividade infinita eventualmente causa um erro em tempo de execução.\n",
    "\n",
    "## Exercícios\n",
    "\n",
    "5.1) O módulo time fornece uma função, também chamada time, que devolve a Hora Média de Greenwich na “época”, que é um momento arbitrário usado como ponto de referência. Em sistemas UNIX, a época é primeiro de janeiro de 1970.\n",
    "```\n",
    ">>> import time\n",
    ">>> time.time()\n",
    "1437746094.5735958\n",
    "```\n",
    "Escreva um script que leia a hora atual e a converta em um tempo em horas, minutos e segundos, mais o número de dias desde a época."
   ]
  },
  {
   "cell_type": "code",
   "execution_count": 4,
   "metadata": {},
   "outputs": [
    {
     "name": "stdout",
     "output_type": "stream",
     "text": [
      "1737420953.5379145\n",
      "482616.0\n",
      " h \n",
      "55.0\n",
      " min \n",
      "53.537914514541626\n",
      " s \n"
     ]
    }
   ],
   "source": [
    "import time\n",
    "totalTimeSeconds = time.time()\n",
    "print(totalTimeSeconds)\n",
    "hours = totalTimeSeconds // 3600\n",
    "remainingSeconds = totalTimeSeconds % 3600\n",
    "minutes = remainingSeconds // 60\n",
    "seconds = remainingSeconds % 60\n",
    "print(hours) \n",
    "print(' h ')\n",
    "print(minutes)\n",
    "print(' min ')\n",
    "print(seconds)\n",
    "print(' s ')"
   ]
  },
  {
   "cell_type": "markdown",
   "metadata": {},
   "source": [
    "5.2) O último teorema de Fermat diz que não existem números inteiros a, b e c tais que `a**n + b**n == c**n` para quaisquer valores de n maiores que 2.\n",
    "\n",
    "Escreva uma função chamada check_fermat que receba quatro parâmetros – a, b, c e n – e verifique se o teorema de Fermat se mantém. Se n for maior que 2 e `a**n + b**n == c**n` o programa deve imprimir, “Holy smokes, Fermat was wrong!” Senão o programa deve exibir “No, that doesn’t work.”\n",
    "\n",
    "Escreva uma função que peça ao usuário para digitar valores para a, b, c e n, os converta em números inteiros e use check_fermat para verificar se violam o teorema de Fermat."
   ]
  },
  {
   "cell_type": "code",
   "execution_count": 26,
   "metadata": {},
   "outputs": [
    {
     "name": "stdout",
     "output_type": "stream",
     "text": [
      "No, that doent work\n"
     ]
    }
   ],
   "source": [
    "def check_fermat(a, b, c, n):\n",
    "    if (n > 2):\n",
    "        if ((a**n + b**n) == c**n):\n",
    "            print('Holy smokes, Fermat was wrong!')\n",
    "        else:\n",
    "            print('No, that doent work')\n",
    "    else:\n",
    "        print('n is less then 2!')\n",
    "            \n",
    "a = int(input())\n",
    "b = int(input())\n",
    "c = int(input())\n",
    "n = int(input())\n",
    "\n",
    "check_fermat(a, b, c, n)"
   ]
  },
  {
   "cell_type": "markdown",
   "metadata": {},
   "source": [
    "5.3) Se você tiver três gravetos, pode ser que consiga arranjá-los em um triângulo ou não. Por exemplo, se um dos gravetos tiver 12 polegadas de comprimento e outros dois tiverem uma polegada de comprimento, não será possível fazer com que os gravetos curtos se encontrem no meio. Há um teste simples para ver se é possível formar um triângulo para quaisquer três comprimentos:\n",
    "\n",
    "Se algum dos três comprimentos for maior que a soma dos outros dois, então você não pode formar um triângulo. Senão, você pode. (Se a soma de dois comprimentos igualar o terceiro, eles formam um triângulo chamado “degenerado”.)\n",
    "\n",
    "1. Escreva uma função chamada is_triangle que receba três números inteiros como argumentos, e que imprima “Yes” ou “No”, dependendo da possibilidade de formar ou não um triângulo de gravetos com os comprimentos dados.\n",
    "\n",
    "2. Escreva uma função que peça ao usuário para digitar três comprimentos de gravetos, os converta em números inteiros e use is_triangle para verificar se os gravetos com os comprimentos dados podem formar um triângulo."
   ]
  },
  {
   "cell_type": "code",
   "execution_count": 29,
   "metadata": {},
   "outputs": [
    {
     "name": "stdout",
     "output_type": "stream",
     "text": [
      "Insert a:\n",
      "Insert b:\n",
      "Insert c:\n",
      "Yes!\n"
     ]
    }
   ],
   "source": [
    "def is_triangle(a, b, c):\n",
    "    if((a > b + c) or (b > a + c) or (c > a + b)):\n",
    "        print('No!')\n",
    "    else:\n",
    "        print('Yes!')\n",
    "        \n",
    "def getInput():\n",
    "    print('Insert a:')\n",
    "    a = int(input())\n",
    "    print('Insert b:')\n",
    "    b = int(input())\n",
    "    print('Insert c:')\n",
    "    c = int(input())\n",
    "    is_triangle(a, b, c)\n",
    "    \n",
    "getInput()"
   ]
  },
  {
   "cell_type": "markdown",
   "metadata": {},
   "source": [
    "5.4) Qual é a saída do seguinte programa? Desenhe um diagrama da pilha que mostre o estado do programa quando exibir o resultado."
   ]
  },
  {
   "cell_type": "code",
   "execution_count": 33,
   "metadata": {},
   "outputs": [
    {
     "name": "stdout",
     "output_type": "stream",
     "text": [
      "25\n"
     ]
    }
   ],
   "source": [
    "def recurse(n, s):\n",
    "    if n == 0:\n",
    "        print(s)\n",
    "    else:\n",
    "        recurse(n - 1, n + s)\n",
    "        \n",
    "recurse(5, 10)"
   ]
  }
 ],
 "metadata": {
  "kernelspec": {
   "display_name": "Python 3",
   "language": "python",
   "name": "python3"
  },
  "language_info": {
   "codemirror_mode": {
    "name": "ipython",
    "version": 3
   },
   "file_extension": ".py",
   "mimetype": "text/x-python",
   "name": "python",
   "nbconvert_exporter": "python",
   "pygments_lexer": "ipython3",
   "version": "3.12.2"
  }
 },
 "nbformat": 4,
 "nbformat_minor": 2
}
